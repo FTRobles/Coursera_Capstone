{
 "cells": [
  {
   "cell_type": "markdown",
   "id": "e6e90feb-55a7-4807-81ab-a931e26633e4",
   "metadata": {},
   "source": [
    "# Capstone project\n",
    "\n",
    "This notebook will be used for the IBM Data Science Certification Capstone, where the Foresquare API will be used for location data extraction."
   ]
  },
  {
   "cell_type": "code",
   "execution_count": 3,
   "id": "78531b71-6bc6-4855-a651-c1235b345b8b",
   "metadata": {},
   "outputs": [
    {
     "name": "stdout",
     "output_type": "stream",
     "text": [
      "Hello Capstone Project Course\n"
     ]
    }
   ],
   "source": [
    "import numpy as np\n",
    "import pandas as pd\n",
    "\n",
    "print(\"Hello Capstone Project Course\")"
   ]
  },
  {
   "cell_type": "code",
   "execution_count": null,
   "id": "67f7d066-1455-4708-9ecb-7188007eceb2",
   "metadata": {},
   "outputs": [],
   "source": []
  }
 ],
 "metadata": {
  "kernelspec": {
   "display_name": "Python 3",
   "language": "python",
   "name": "python3"
  },
  "language_info": {
   "codemirror_mode": {
    "name": "ipython",
    "version": 3
   },
   "file_extension": ".py",
   "mimetype": "text/x-python",
   "name": "python",
   "nbconvert_exporter": "python",
   "pygments_lexer": "ipython3",
   "version": "3.7.10"
  }
 },
 "nbformat": 4,
 "nbformat_minor": 5
}
