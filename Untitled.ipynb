{
 "cells": [
  {
   "cell_type": "markdown",
   "id": "dba97874-0a16-42da-9a93-5304abc996e8",
   "metadata": {},
   "source": [
    "# Clustering Neighborhoods in Toronto\n",
    "\n",
    "In this assignment, you will be required to explore, segment, and cluster the neighborhoods in the city of Toronto based on the postalcode and borough information.\n",
    "\n",
    "For the Toronto neighborhood data, a Wikipedia page exists that has all the information we need to explore and cluster the neighborhoods in Toronto. You will be required to scrape the Wikipedia page and wrangle the data, clean it, and then read it into a pandas  dataframe so that it is in a structured format.\n",
    "\n",
    "Once the data is in a structured format, you can cluster Toronto neighborhoods."
   ]
  },
  {
   "cell_type": "code",
   "execution_count": 1,
   "id": "ce64f7c1-4217-4bfe-a3c5-88930bffc4af",
   "metadata": {},
   "outputs": [],
   "source": [
    "import pandas as pd"
   ]
  },
  {
   "cell_type": "markdown",
   "id": "76372261-2200-4de7-9315-7c1438b21617",
   "metadata": {},
   "source": []
  },
  {
   "cell_type": "code",
   "execution_count": null,
   "id": "b5839ab0-2646-4799-aa2e-cb423f883c26",
   "metadata": {},
   "outputs": [],
   "source": [
    "postal_codes = geo_data['Postal Code']\n",
    "toronto_geodata = toronto_neighboors\n",
    "\n",
    "for row in range(1,len(geo_data)):\n",
    "    \n",
    "    cp = geo_data.iloc[row,0]\n",
    "    latitude = geo_data.iloc[row,1]\n",
    "    longitude = geo_data.iloc[row,2]\n",
    "    \n",
    "    toronto_geodata.loc[(toronto_geodata['PostalCode']==cp),'Latitude'] = latitude\n",
    "    toronto_geodata.loc[(toronto_geodata['PostalCode']==cp),'Longitude'] = longitude"
   ]
  },
  {
   "cell_type": "code",
   "execution_count": null,
   "id": "3fa8f2d2-d74a-4c38-8fad-393b51e4db19",
   "metadata": {},
   "outputs": [],
   "source": [
    "toronto_geodata.head()"
   ]
  }
 ],
 "metadata": {
  "kernelspec": {
   "display_name": "Python 3",
   "language": "python",
   "name": "python3"
  },
  "language_info": {
   "codemirror_mode": {
    "name": "ipython",
    "version": 3
   },
   "file_extension": ".py",
   "mimetype": "text/x-python",
   "name": "python",
   "nbconvert_exporter": "python",
   "pygments_lexer": "ipython3",
   "version": "3.7.10"
  }
 },
 "nbformat": 4,
 "nbformat_minor": 5
}
