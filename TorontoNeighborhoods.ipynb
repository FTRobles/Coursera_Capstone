{
 "cells": [
  {
   "cell_type": "markdown",
   "id": "0a2db7ab-4066-49f2-bdbc-b258673b2b96",
   "metadata": {},
   "source": [
    "# Clustering Neighborhoods in Toronto\n",
    "\n",
    "In this assignment, you will be required to explore, segment, and cluster the neighborhoods in the city of Toronto based on the postalcode and borough information.\n",
    "\n",
    "For the Toronto neighborhood data, a Wikipedia page exists that has all the information we need to explore and cluster the neighborhoods in Toronto. You will be required to scrape the Wikipedia page and wrangle the data, clean it, and then read it into a pandas  dataframe so that it is in a structured format.\n",
    "\n",
    "Once the data is in a structured format, you can cluster Toronto neighborhoods."
   ]
  },
  {
   "cell_type": "code",
   "execution_count": 7,
   "id": "6ea3cca5-692f-472e-803d-63244d0fba72",
   "metadata": {},
   "outputs": [],
   "source": [
    "import pandas as pd\n",
    "import requests\n",
    "from bs4 import BeautifulSoup"
   ]
  },
  {
   "cell_type": "markdown",
   "id": "7089be75-fc8f-415f-be96-b3a0fce88d43",
   "metadata": {},
   "source": [
    "## Retrieving data\n",
    "\n",
    "1. Get the html data from the url page using Requests\n",
    "2. Get postal codes and neighborhood data using BeautifulSoup"
   ]
  },
  {
   "cell_type": "code",
   "execution_count": 40,
   "id": "61b5bf3b-d66e-41b3-8596-ee025e033c77",
   "metadata": {},
   "outputs": [],
   "source": [
    "url = \"https://en.wikipedia.org/wiki/List_of_postal_codes_of_Canada:_M\"\n",
    "html_data  = requests.get(url).text\n",
    "soup = BeautifulSoup(html_data,\"html5lib\")  # create a soup object using the variable 'data'\n",
    "table = soup.find('table')\n",
    "postal_codes = table.find_all('p')"
   ]
  },
  {
   "cell_type": "markdown",
   "id": "6d58d08b-7b7b-4c8f-9edb-00b3b7d6f0da",
   "metadata": {},
   "source": [
    "3. Structure data into a pandas data frame"
   ]
  },
  {
   "cell_type": "code",
   "execution_count": 49,
   "id": "026887b5-c0a6-4dd8-aaa1-bd4747275a03",
   "metadata": {},
   "outputs": [
    {
     "data": {
      "text/html": [
       "<div>\n",
       "<style scoped>\n",
       "    .dataframe tbody tr th:only-of-type {\n",
       "        vertical-align: middle;\n",
       "    }\n",
       "\n",
       "    .dataframe tbody tr th {\n",
       "        vertical-align: top;\n",
       "    }\n",
       "\n",
       "    .dataframe thead th {\n",
       "        text-align: right;\n",
       "    }\n",
       "</style>\n",
       "<table border=\"1\" class=\"dataframe\">\n",
       "  <thead>\n",
       "    <tr style=\"text-align: right;\">\n",
       "      <th></th>\n",
       "      <th>PostalCode</th>\n",
       "      <th>Borough</th>\n",
       "      <th>Neighboors</th>\n",
       "    </tr>\n",
       "  </thead>\n",
       "  <tbody>\n",
       "    <tr>\n",
       "      <th>0</th>\n",
       "      <td>M3A</td>\n",
       "      <td>North York</td>\n",
       "      <td>Parkwoods</td>\n",
       "    </tr>\n",
       "    <tr>\n",
       "      <th>1</th>\n",
       "      <td>M4A</td>\n",
       "      <td>North York</td>\n",
       "      <td>Victoria Village</td>\n",
       "    </tr>\n",
       "    <tr>\n",
       "      <th>2</th>\n",
       "      <td>M5A</td>\n",
       "      <td>Downtown Toronto</td>\n",
       "      <td>Regent Park, Harbourfront</td>\n",
       "    </tr>\n",
       "    <tr>\n",
       "      <th>3</th>\n",
       "      <td>M6A</td>\n",
       "      <td>North York</td>\n",
       "      <td>Lawrence Manor, Lawrence Heights</td>\n",
       "    </tr>\n",
       "    <tr>\n",
       "      <th>4</th>\n",
       "      <td>M7A</td>\n",
       "      <td>Queen's Park</td>\n",
       "      <td>Ontario Provincial Government</td>\n",
       "    </tr>\n",
       "  </tbody>\n",
       "</table>\n",
       "</div>"
      ],
      "text/plain": [
       "  PostalCode           Borough                        Neighboors\n",
       "0        M3A        North York                         Parkwoods\n",
       "1        M4A        North York                  Victoria Village\n",
       "2        M5A  Downtown Toronto         Regent Park, Harbourfront\n",
       "3        M6A        North York  Lawrence Manor, Lawrence Heights\n",
       "4        M7A      Queen's Park     Ontario Provincial Government"
      ]
     },
     "execution_count": 49,
     "metadata": {},
     "output_type": "execute_result"
    }
   ],
   "source": [
    "postal_codes_data = []\n",
    "\n",
    "for i, postal_code in enumerate(postal_codes):\n",
    "\n",
    "    if postal_code.span.text == 'Not assigned':\n",
    "        pass\n",
    "    else:\n",
    "        dic = {}\n",
    "        dic['PostalCode'] = postal_code.find('b').text.strip(' ')\n",
    "        text = postal_code.span.text.split(sep='(')\n",
    "        dic['Borough'] = text[0].strip(' ')\n",
    "        dic['Neighboors'] = text[1].split(sep=')')[0].replace(' /',',').strip(' ')\n",
    "        \n",
    "        postal_codes_data.append(dic)\n",
    "        \n",
    "df = pd.DataFrame(data=postal_codes_data)\n",
    "df.head()"
   ]
  },
  {
   "cell_type": "code",
   "execution_count": 51,
   "id": "c1ffebed-f2e6-494e-afb9-a2210a5c1ab0",
   "metadata": {},
   "outputs": [
    {
     "data": {
      "text/plain": [
       "(103, 3)"
      ]
     },
     "execution_count": 51,
     "metadata": {},
     "output_type": "execute_result"
    }
   ],
   "source": [
    "df.shape"
   ]
  },
  {
   "cell_type": "code",
   "execution_count": null,
   "id": "5e4b9333-93c8-46a2-9d03-34804fd2c18e",
   "metadata": {},
   "outputs": [],
   "source": []
  }
 ],
 "metadata": {
  "kernelspec": {
   "display_name": "Python 3",
   "language": "python",
   "name": "python3"
  },
  "language_info": {
   "codemirror_mode": {
    "name": "ipython",
    "version": 3
   },
   "file_extension": ".py",
   "mimetype": "text/x-python",
   "name": "python",
   "nbconvert_exporter": "python",
   "pygments_lexer": "ipython3",
   "version": "3.7.10"
  }
 },
 "nbformat": 4,
 "nbformat_minor": 5
}
